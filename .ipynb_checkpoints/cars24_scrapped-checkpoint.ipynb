{
 "cells": [
  {
   "cell_type": "code",
   "execution_count": 3,
   "id": "9e39944c",
   "metadata": {},
   "outputs": [
    {
     "name": "stdout",
     "output_type": "stream",
     "text": [
      "completed\n"
     ]
    }
   ],
   "source": [
    "import pandas as pd\n",
    "from selenium import webdriver\n",
    "from selenium.webdriver.common.by import By\n",
    "import time\n",
    "import numpy as np\n",
    "import pandas\n",
    "\n",
    "\n",
    "driver = webdriver.Chrome()\n",
    "\n",
    "driver.get(\"https://www.cars24.com/buy-used-car/?sort=bestmatch&serveWarrantyCount=true&gaId=693724237.1716892283&storeCityId=1692\")\n",
    "\n",
    "height = driver.execute_script(\"return document.body.scrollHeight\")\n",
    "while True:\n",
    "    driver.execute_script(\"window.scrollTo(0,document.body.scrollHeight)\")\n",
    "    time.sleep(3)\n",
    "    new_height = driver.execute_script(\"return document.body.scrollHeight\")\n",
    "    if height == new_height:\n",
    "        print(\"completed\")\n",
    "        break\n",
    "    height = new_height\n",
    "\n",
    "\n"
   ]
  },
  {
   "cell_type": "code",
   "execution_count": 7,
   "id": "c827951d",
   "metadata": {},
   "outputs": [],
   "source": [
    "names = driver.find_elements(By.CLASS_NAME, \"_11dVb\")\n",
    "car_names = [name.text for name in names]\n",
    "year = [name.text.split(\" \")[0] for name in names]\n",
    "\n",
    "\n",
    "info = driver.find_elements(By.CLASS_NAME, \"_3J2G-\")\n",
    "cars_info = [car.text.split(\"\\n\") for car in info]\n",
    "car_distance = [info[0] for info in cars_info]\n",
    "fuel_type = [info[1] for info in cars_info]\n",
    "drive_type = [info[2] for info in cars_info]\n",
    "\n",
    "price_row = driver.find_elements(By.CLASS_NAME, \"_2KyOK\")\n",
    "price = [car_price.text for car_price in price_row]\n",
    "\n"
   ]
  },
  {
   "cell_type": "code",
   "execution_count": 11,
   "id": "7bfb8751",
   "metadata": {},
   "outputs": [],
   "source": [
    "car_data_dict = {\n",
    "    \"Car_name\": car_names,\n",
    "    \"Year\": year,\n",
    "    \"Distance\": car_distance,\n",
    "    \"Fuel_type\": fuel_type,\n",
    "    \"Drive\": drive_type,\n",
    "    \"Price\": price\n",
    "}\n",
    "\n"
   ]
  },
  {
   "cell_type": "code",
   "execution_count": 12,
   "id": "d5bf858a",
   "metadata": {},
   "outputs": [],
   "source": [
    "df = pd.DataFrame(car_data_dict)\n",
    "df.to_csv(\"cars24_row.csv\")"
   ]
  },
  {
   "cell_type": "code",
   "execution_count": null,
   "id": "2007bab4",
   "metadata": {},
   "outputs": [],
   "source": []
  }
 ],
 "metadata": {
  "kernelspec": {
   "display_name": "Python 3 (ipykernel)",
   "language": "python",
   "name": "python3"
  },
  "language_info": {
   "codemirror_mode": {
    "name": "ipython",
    "version": 3
   },
   "file_extension": ".py",
   "mimetype": "text/x-python",
   "name": "python",
   "nbconvert_exporter": "python",
   "pygments_lexer": "ipython3",
   "version": "3.11.4"
  }
 },
 "nbformat": 4,
 "nbformat_minor": 5
}
